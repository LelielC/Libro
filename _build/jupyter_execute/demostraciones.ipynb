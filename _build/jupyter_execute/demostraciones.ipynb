{
 "cells": [
  {
   "cell_type": "markdown",
   "id": "81bf5751-3c48-4541-ad1c-7a65847ab79d",
   "metadata": {},
   "source": [
    "<figure>\n",
    "<img src=\"../Imagenes/logo-final-ap.png\"  width=\"80\" height=\"80\" align=\"left\"/> \n",
    "</figure>\n",
    "\n",
    "# <span style=\"color:blue\"><left>Aprendizaje Profundo</left></span>"
   ]
  },
  {
   "cell_type": "markdown",
   "id": "0a8d18ea-a48c-4871-ae5c-e83715530e9b",
   "metadata": {},
   "source": [
    "# <span style=\"color:red\"><center>Visión por Computadora</center></span>\n",
    "## <span style=\"color:red\"><center>Ejemplos de proyectos</center></span>"
   ]
  },
  {
   "cell_type": "markdown",
   "id": "52dff50b-8ec1-4332-a341-cc521a09d96d",
   "metadata": {},
   "source": [
    "## <span style=\"color:blue\">Contenido</span>"
   ]
  },
  {
   "cell_type": "markdown",
   "id": "d789cfef-c791-4159-ab27-3d0c91580a80",
   "metadata": {},
   "source": [
    "* [Paquetes a usar](#Paquetes-a-usar)\n",
    "* [Detección de códigos QR](#Detección-de-códigos-QR)\n",
    "* [Detección facial básica](#Detección-facial-básica)"
   ]
  },
  {
   "cell_type": "markdown",
   "id": "9b83b5fd-951b-4a31-b71d-0820767a2890",
   "metadata": {},
   "source": [
    "## <span style=\"color:blue\">Paquetes a usar</span>"
   ]
  },
  {
   "cell_type": "code",
   "execution_count": 1,
   "id": "5414d127-17d6-4802-a194-ba43eec2f7d8",
   "metadata": {},
   "outputs": [],
   "source": [
    "import cv2\n",
    "import webbrowser\n",
    "import os"
   ]
  },
  {
   "cell_type": "markdown",
   "id": "4ec7903a-1fe3-4016-967e-2fe70a6b0c80",
   "metadata": {},
   "source": [
    "## <span style=\"color:blue\">Detección de códigos QR</span>\n",
    "\n",
    "Vamos a usar la cámara web para reconocer códigos QR y entrar a los enlaces de estos"
   ]
  },
  {
   "cell_type": "code",
   "execution_count": 2,
   "id": "283862e4-ba43-4e0e-b532-f38fb1376237",
   "metadata": {},
   "outputs": [
    {
     "ename": "KeyboardInterrupt",
     "evalue": "",
     "output_type": "error",
     "traceback": [
      "\u001b[1;31m---------------------------------------------------------------------------\u001b[0m",
      "\u001b[1;31mKeyboardInterrupt\u001b[0m                         Traceback (most recent call last)",
      "\u001b[1;32m~\\AppData\\Local\\Temp/ipykernel_21568/1172371042.py\u001b[0m in \u001b[0;36m<module>\u001b[1;34m\u001b[0m\n\u001b[0;32m      6\u001b[0m \u001b[1;31m# en este loop va a leer la cámara web y generará una variable vacía donde se guarda la imágen\u001b[0m\u001b[1;33m\u001b[0m\u001b[1;33m\u001b[0m\u001b[1;33m\u001b[0m\u001b[0m\n\u001b[0;32m      7\u001b[0m \u001b[1;32mwhile\u001b[0m \u001b[1;32mTrue\u001b[0m\u001b[1;33m:\u001b[0m\u001b[1;33m\u001b[0m\u001b[1;33m\u001b[0m\u001b[0m\n\u001b[1;32m----> 8\u001b[1;33m     \u001b[0m_\u001b[0m\u001b[1;33m,\u001b[0m \u001b[0mimg\u001b[0m \u001b[1;33m=\u001b[0m \u001b[0mcap\u001b[0m\u001b[1;33m.\u001b[0m\u001b[0mread\u001b[0m\u001b[1;33m(\u001b[0m\u001b[1;33m)\u001b[0m\u001b[1;33m\u001b[0m\u001b[1;33m\u001b[0m\u001b[0m\n\u001b[0m\u001b[0;32m      9\u001b[0m \u001b[1;33m\u001b[0m\u001b[0m\n\u001b[0;32m     10\u001b[0m \u001b[1;31m# detección y decodificación del QR\u001b[0m\u001b[1;33m\u001b[0m\u001b[1;33m\u001b[0m\u001b[1;33m\u001b[0m\u001b[0m\n",
      "\u001b[1;31mKeyboardInterrupt\u001b[0m: "
     ]
    }
   ],
   "source": [
    "## Iniciamos la cámara\n",
    "cap = cv2.VideoCapture(0)\n",
    "# Llamamos el detector de QR\n",
    "detector = cv2.QRCodeDetector()\n",
    "\n",
    "# en este loop va a leer la cámara web y generará una variable vacía donde se guarda la imágen\n",
    "while True:\n",
    "    _, img = cap.read()\n",
    "\n",
    "# detección y decodificación del QR\n",
    "    data, points, _ = detector.detectAndDecode(img)\n",
    "   # Busca si hay un QR en la cámara y paramos el loop si hay un QR\n",
    "    if data:\n",
    "        a = data\n",
    "        break\n",
    "\n",
    "\n",
    "# se muestra el output de la cámara web\n",
    "    cv2.imshow(\"QRCODEscanner\", img)\n",
    "# si se usa la tecla \"q\", se parará el loop\n",
    "    if cv2.waitKey(1) == ord(\"q\"):\n",
    "        break\n",
    "\n",
    "# obtenemos el url en el QR y lo abrimos\n",
    "b=webbrowser.open(str(a))\n",
    "#cerramos la camara y cerramos todas las ventanas que hemos abierto\n",
    "cap.release()\n",
    "cv2.destroyAllWindows()"
   ]
  },
  {
   "cell_type": "markdown",
   "id": "477b95c8-1dd6-411e-834e-aab98dfebfe5",
   "metadata": {},
   "source": [
    "## <span style=\"color:blue\">Detección facial básica</span>\n",
    "\n",
    "Vamos a usar la cámara web para encontrar rostros y generar un cuadro en este"
   ]
  },
  {
   "cell_type": "code",
   "execution_count": 4,
   "id": "2fc6470b-fe48-4dc2-9849-b0d2740255f7",
   "metadata": {},
   "outputs": [],
   "source": [
    "# Llamamos el modelo pre entrenado de clasificadores con cascada de haar\n",
    "cascPath='../modelos/haarcascade_frontalface_default.xml'\n",
    "\n",
    "faceCascade = cv2.CascadeClassifier(cascPath)\n",
    "\n",
    "# Iniciamos la cámara\n",
    "cap = cv2.VideoCapture(0)\n",
    "\n",
    "while True:\n",
    "    # Hacemos la captura fotograma por fotograma\n",
    "    ret, frames = cap.read()\n",
    "    #cambiamos a escala de grises\n",
    "    gray = cv2.cvtColor(frames, cv2.COLOR_BGR2GRAY)\n",
    "    #iniciamos el modelo de detección\n",
    "    faces = faceCascade.detectMultiScale(gray,\n",
    "        scaleFactor=1.1,\n",
    "        minNeighbors=5,\n",
    "        minSize=(30, 30),\n",
    "        flags=cv2.CASCADE_SCALE_IMAGE)\n",
    "    # Dibujamos el rectángulo \n",
    "    for (x, y, w, h) in faces:\n",
    "        cv2.rectangle(frames, (x, y), (x+w, y+h), (0, 255, 0), 2)\n",
    "    # mostramos el fotograma final\n",
    "    cv2.imshow('Video', frames)\n",
    "    if cv2.waitKey(1) == ord('q'):\n",
    "        break\n",
    "\n",
    "#cerramos la camara y cerramos todas las ventanas que hemos abierto\n",
    "cap.release()\n",
    "cv2.destroyAllWindows()"
   ]
  },
  {
   "cell_type": "code",
   "execution_count": null,
   "id": "de60ee1b-db9a-4137-baef-7874e2f69063",
   "metadata": {},
   "outputs": [],
   "source": []
  },
  {
   "cell_type": "markdown",
   "id": "f03f97b2",
   "metadata": {},
   "source": [
    "<a rel=\"license\" href=\"http://creativecommons.org/licenses/by-nc-nd/4.0/\"><img alt=\"Licencia Creative Commons\" style=\"border-width:0\" src=\"https://i.creativecommons.org/l/by-nc-nd/4.0/88x31.png\" /></a><br /><span xmlns:dct=\"http://purl.org/dc/terms/\" href=\"http://purl.org/dc/dcmitype/InteractiveResource\" property=\"dct:title\" rel=\"dct:type\">pruebas sphinx</span> por <a xmlns:cc=\"http://creativecommons.org/ns#\" href=\"https://aprendizajeprofundo.co\" property=\"cc:attributionName\" rel=\"cc:attributionURL\">aprendizaje profundo</a> se distribuye bajo una <a rel=\"license\" href=\"http://creativecommons.org/licenses/by-nc-nd/4.0/\">Licencia Creative Commons Atribución-NoComercial-SinDerivadas 4.0 Internacional</a>."
   ]
  }
 ],
 "metadata": {
  "kernelspec": {
   "display_name": "Python 3",
   "language": "python",
   "name": "python3"
  },
  "language_info": {
   "codemirror_mode": {
    "name": "ipython",
    "version": 3
   },
   "file_extension": ".py",
   "mimetype": "text/x-python",
   "name": "python",
   "nbconvert_exporter": "python",
   "pygments_lexer": "ipython3",
   "version": "3.9.3"
  }
 },
 "nbformat": 4,
 "nbformat_minor": 5
}