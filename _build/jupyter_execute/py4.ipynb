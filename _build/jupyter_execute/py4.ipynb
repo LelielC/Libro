{
 "cells": [
  {
   "cell_type": "markdown",
   "metadata": {
    "tags": []
   },
   "source": [
    "(2:py4)=\n",
    "\n",
    "# Inspección, Instalación y Carga de Módulos y Paquetes\n",
    "\n",
    "Dependiendo del ambiente de trabajo usado, tenemos diferente cantidad de **paquetes** instalados.\n",
    "\n",
    "Hay una **forma** de ver qué paquetes existen en el ambiente actual sin salir del Notebook.\n",
    "\n",
    "Basta con colocar ```!<comando>``` en una celda de código.\n",
    "\n",
    "Dicho esto, ¿Qué es mejor, hacer todo desde el Prompt o el Notebook?\n",
    "\n",
    "*La elección si depende del gusto :)*\n",
    "\n",
    "### <span style=\"color:#4CC9F0\">Ejemplo</span>\n",
    "\n",
    "Verifiquemos que versión de Python estamos usando, qué ambientes disponibles existen, cuál es el activo y qué paquetes están instalados, todo esto **sin salir del Notebook**."
   ]
  },
  {
   "cell_type": "code",
   "execution_count": 1,
   "metadata": {
    "tags": []
   },
   "outputs": [
    {
     "name": "stdout",
     "output_type": "stream",
     "text": [
      "Python 3.9.3\n",
      " \n"
     ]
    },
    {
     "name": "stderr",
     "output_type": "stream",
     "text": [
      "\"conda\" no se reconoce como un comando interno o externo,\n",
      "programa o archivo por lotes ejecutable.\n"
     ]
    }
   ],
   "source": [
    "# Recuerda que # es para usar comentarios\n",
    "# Versión Actual de Python siendo usada\n",
    "!python --version\n",
    "# Función print para dar un salto de línea\n",
    "print(\" \")\n",
    "# Lista de Ambientes Disponibles y Activo en el Notebook\n",
    "!conda env list"
   ]
  },
  {
   "cell_type": "code",
   "execution_count": 2,
   "metadata": {},
   "outputs": [
    {
     "name": "stderr",
     "output_type": "stream",
     "text": [
      "\"conda\" no se reconoce como un comando interno o externo,\n",
      "programa o archivo por lotes ejecutable.\n"
     ]
    }
   ],
   "source": [
    "!conda list"
   ]
  },
  {
   "cell_type": "markdown",
   "metadata": {},
   "source": [
    "Dentro de cada uno de estos paquetes se encuentran **modulos**, que juntos forman la librería de módulos disponibles en el ambiente de trabajo.\n",
    "## <span style=\"color:#4361EE\">¿Qué es un módulo?</span>\n",
    "\n",
    "\n",
    "Un módulo es un archivo que tiene extensión *.py*, es decir, es un archivo de texto que tiene adentro código de python que se puede ejecutar. Un módulo puede definir funciones, clases y variables.\n",
    "\n",
    "Cabe resaltar lo siguiente: **Python es un lenguaje de programación orientado a objetos**.\n",
    "\n",
    "Para términos de visualización, imagínese una caja que tiene muchas cajas por dentro y dentro de cada caja existen herramientas de trabajo distintas.\n",
    "\n",
    "### <span style=\"color:#4CC9F0\">Ejemplo</span>\n",
    "\n",
    "Mi maleta. Mi maleta tiene dentro lo siguiente:\n",
    "\n",
    "- Una cartuchera.\n",
    "- Un computador.\n",
    "- Un cuaderno.\n",
    "\n",
    "Los roles serían los siguientes:\n",
    "\n",
    "- Maleta     $\\rightarrow$ Paquete\n",
    "- Cartuchera $\\rightarrow$ Módulo\n",
    "- Cuaderno   $\\rightarrow$ Módulo\n",
    "\n",
    "Entonces, si queremos usar la cartuchera, debemos primero abrir la maleta y tomarla.\n",
    "\n",
    "**O sea, del paquete, vamos a usar un módulo**.\n",
    "\n",
    "Dentro de la cartuchera tengo marcadores, lápices, y borrador.\n",
    "\n",
    "Estos toman el rol de **atributos**, objetos que hacen tareas específicas.\n",
    "\n",
    "Por tanto, si quiero usar un borrador, debería hacer lo siguiente\n",
    "\n",
    "Abrir maleta $\\rightarrow$ Tomar cartuchera $\\rightarrow$ Abrir Cartuchera $\\rightarrow$ Tomar Borrador\n",
    "\n",
    "En Python, estas acciones se pueden **traducir** a lo siguiente:\n",
    "\n",
    "```import Maleta```\n",
    "\n",
    "```Maleta.Cartuchera.Borrador()```\n",
    "\n",
    "Para saber qué módulos están disponibles en el ambiente de trabajo, basta con usar el siguiente comando:"
   ]
  },
  {
   "cell_type": "code",
   "execution_count": 3,
   "metadata": {},
   "outputs": [
    {
     "name": "stdout",
     "output_type": "stream",
     "text": [
      "\n",
      "Please wait a moment while I gather a list of all available modules...\n",
      "\n"
     ]
    },
    {
     "name": "stderr",
     "output_type": "stream",
     "text": [
      "c:\\users\\user\\appdata\\local\\programs\\python\\python39\\lib\\site-packages\\IPython\\kernel\\__init__.py:12: ShimWarning: The `IPython.kernel` package has been deprecated since IPython 4.0.You should import from ipykernel or jupyter_client instead.\n",
      "  warn(\"The `IPython.kernel` package has been deprecated since IPython 4.0.\"\n"
     ]
    },
    {
     "name": "stderr",
     "output_type": "stream",
     "text": [
      "c:\\users\\user\\appdata\\local\\programs\\python\\python39\\lib\\pkgutil.py:93: UserWarning: \n",
      "The dash_core_components package is deprecated. Please replace\n",
      "`import dash_core_components as dcc` with `from dash import dcc`\n",
      "  __import__(info.name)\n",
      "c:\\users\\user\\appdata\\local\\programs\\python\\python39\\lib\\pkgutil.py:93: UserWarning: \n",
      "The dash_html_components package is deprecated. Please replace\n",
      "`import dash_html_components as html` with `from dash import html`\n",
      "  __import__(info.name)\n",
      "c:\\users\\user\\appdata\\local\\programs\\python\\python39\\lib\\pkgutil.py:93: UserWarning: \n",
      "The dash_table package is deprecated. Please replace\n",
      "`import dash_table` with `from dash import dash_table`\n",
      "\n",
      "Also, if you're using any of the table format helpers (e.g. Group), replace \n",
      "`from dash_table.Format import Group` with \n",
      "`from dash.dash_table.Format import Group`\n",
      "  __import__(info.name)\n"
     ]
    },
    {
     "name": "stderr",
     "output_type": "stream",
     "text": [
      "c:\\users\\user\\appdata\\local\\programs\\python\\python39\\lib\\site-packages\\jupyter_server_mathjax\\app.py:40: FutureWarning: The alias `_()` will be deprecated. Use `_i18n()` instead.\n",
      "  help=_(\"\"\"The MathJax.js configuration file that is to be used.\"\"\"),\n"
     ]
    },
    {
     "name": "stderr",
     "output_type": "stream",
     "text": [
      "c:\\users\\user\\appdata\\local\\programs\\python\\python39\\lib\\site-packages\\pydub\\utils.py:170: RuntimeWarning: Couldn't find ffmpeg or avconv - defaulting to ffmpeg, but may not work\n",
      "  warn(\"Couldn't find ffmpeg or avconv - defaulting to ffmpeg, but may not work\", RuntimeWarning)\n"
     ]
    },
    {
     "data": {
      "text/html": [
       "<pre style=\"white-space:pre;overflow-x:auto;line-height:normal;font-family:Menlo,'DejaVu Sans Mono',consolas,'Courier New',monospace\">Manim Community <span style=\"color: #008000; text-decoration-color: #008000\">v0.13.1</span>\n",
       "\n",
       "</pre>\n"
      ],
      "text/plain": [
       "Manim Community \u001b[32mv0.\u001b[0m\u001b[32m13.1\u001b[0m\n",
       "\n"
      ]
     },
     "metadata": {},
     "output_type": "display_data"
    },
    {
     "name": "stderr",
     "output_type": "stream",
     "text": [
      "c:\\users\\user\\appdata\\local\\programs\\python\\python39\\lib\\pkgutil.py:93: MatplotlibDeprecationWarning: \n",
      "The matplotlib.compat module was deprecated in Matplotlib 3.3 and will be removed two minor releases later.\n",
      "  __import__(info.name)\n"
     ]
    },
    {
     "name": "stderr",
     "output_type": "stream",
     "text": [
      "c:\\users\\user\\appdata\\local\\programs\\python\\python39\\lib\\site-packages\\pyglet\\image\\codecs\\wic.py:289: UserWarning:\n",
      "\n",
      "[WinError -2147417850] No se puede cambiar el modo de subproceso después de establecerlo\n",
      "\n",
      "c:\\users\\user\\appdata\\local\\programs\\python\\python39\\lib\\site-packages\\pyglet\\media\\codecs\\wmf.py:838: UserWarning:\n",
      "\n",
      "[WinError -2147417850] No se puede cambiar el modo de subproceso después de establecerlo\n",
      "\n"
     ]
    },
    {
     "name": "stderr",
     "output_type": "stream",
     "text": [
      "c:\\users\\user\\appdata\\local\\programs\\python\\python39\\lib\\site-packages\\rpy2\\robjects\\packages.py:366: UserWarning:\n",
      "\n",
      "The symbol 'quartz' is not in this R namespace/package.\n",
      "\n"
     ]
    },
    {
     "name": "stderr",
     "output_type": "stream",
     "text": [
      "c:\\users\\user\\appdata\\local\\programs\\python\\python39\\lib\\site-packages\\setuptools\\distutils_patch.py:25: UserWarning:\n",
      "\n",
      "Distutils was imported before Setuptools. This usage is discouraged and may exhibit undesirable behaviors or errors. Please use Setuptools' objects directly or at least import Setuptools first.\n",
      "\n"
     ]
    },
    {
     "name": "stderr",
     "output_type": "stream",
     "text": [
      "c:\\users\\user\\appdata\\local\\programs\\python\\python39\\lib\\pkgutil.py:108: VisibleDeprecationWarning:\n",
      "\n",
      "zmq.eventloop.minitornado is deprecated in pyzmq 14.0 and will be removed.\n",
      "    Install tornado itself to use zmq with the tornado IOLoop.\n",
      "    \n",
      "\n"
     ]
    },
    {
     "name": "stdout",
     "output_type": "stream",
     "text": [
      "IPython             cmath               metakernel          sphinx_jupyterbook_latex\n",
      "PIL                 cmd                 mimetypes           sphinx_multitoc_numbering\n",
      "__future__          code                mistune             sphinx_panels\n",
      "_abc                codecs              mmap                sphinx_proof\n",
      "_aix_support        codeop              mmapfile            sphinx_thebe\n",
      "_ast                collections         mmsystem            sphinx_togglebutton\n",
      "_asyncio            colorama            moderngl            sqlalchemy\n",
      "_bisect             colorsys            moderngl_window     sqlite3\n",
      "_blake2             colour              modulefinder        sre_compile\n",
      "_bootlocale         commctrl            mpu                 sre_constants\n",
      "_bootsubprocess     commonmark          msilib              sre_parse\n",
      "_brotli             compileall          msvcrt              srt\n",
      "_bz2                concurrent          multipledispatch    srt_tools\n",
      "_cffi_backend       conf                multiprocessing     ssl\n",
      "_codecs             configparser        myst_nb             sspi\n",
      "_codecs_cn          contextlib          myst_parser         sspicon\n",
      "_codecs_hk          contextvars         nbclassic           stat\n",
      "_codecs_iso2022     cookiecutter        nbclient            statistics\n",
      "_codecs_jp          copy                nbconvert           storemagic\n",
      "_codecs_kr          copyreg             nbdime              string\n",
      "_codecs_tw          crypt               nbformat            stringprep\n",
      "_collections        cssselect2          nbgitpuller         struct\n",
      "_collections_abc    csv                 nest_asyncio        subprocess\n",
      "_compat_pickle      ctypes              netbios             sunau\n",
      "_compression        curses              netrc               svgwrite\n",
      "_contextvars        cv2                 networkx            symbol\n",
      "_csv                cycler              nntplib             sympyprinting\n",
      "_ctypes             cythonmagic         nodeenv             symtable\n",
      "_ctypes_test        dash                notebook            sys\n",
      "_datetime           dash_core_components nt                  sysconfig\n",
      "_decimal            dash_html_components ntpath              tabnanny\n",
      "_elementtree        dash_table          ntsecuritycon       tarfile\n",
      "_functools          dataclasses         nturl2path          telnetlib\n",
      "_hashlib            datetime            numbers             tempfile\n",
      "_heapq              dateutil            numpy               tenacity\n",
      "_imp                dbi                 odbc                terminado\n",
      "_io                 dbm                 opcode              test\n",
      "_json               dde                 openpyxl            testpath\n",
      "_locale             debugpy             operator            tests\n",
      "_lsprof             decimal             optparse            text_unidecode\n",
      "_lzma               decorator           os                  textwrap\n",
      "_markupbase         defusedxml          packaging           this\n",
      "_md5                difflib             pandas              threading\n",
      "_msi                dis                 pandocfilters       time\n",
      "_multibytecodec     distlib             parser              timeit\n",
      "_multiprocessing    distutils           parso               timer\n",
      "_opcode             doctest             pathlib             tinycss2\n",
      "_operator           docutils            pathops             tkinter\n",
      "_osx_support        easy_install        pdb                 tlz\n",
      "_overlapped         email               perfmon             token\n",
      "_peg_parser         encodings           pexpect             tokenize\n",
      "_pickle             ensurepip           pickle              toml\n",
      "_plotly_future_     entrypoints         pickleshare         toolz\n",
      "_plotly_utils       enum                pickletools         tornado\n",
      "_py_abc             errno               pip                 tqdm\n",
      "_pydecimal          et_xmlfile          pipes               trace\n",
      "_pyio               faulthandler        pkg_resources       traceback\n",
      "_pyrsistent_version ffmpeg              pkgutil             tracemalloc\n",
      "_queue              filecmp             platform            traitlets\n",
      "_random             fileinput           platformdirs        tty\n",
      "_rinterface_cffi_abi filelock            plistlib            turtle\n",
      "_sha1               flask               plotly              turtledemo\n",
      "_sha256             flask_compress      plotlywidget        types\n",
      "_sha3               fnmatch             poplib              typing\n",
      "_sha512             formatter           posixpath           typing_extensions\n",
      "_signal             fractions           poyo                tzdata\n",
      "_sitebuiltins       ftplib              pprint              tzlocal\n",
      "_socket             functools           pre_commit          uc_micro\n",
      "_sqlite3            gc                  profile             unicodedata\n",
      "_sre                genericpath         prometheus_client   unittest\n",
      "_ssl                getopt              prompt_toolkit      urllib\n",
      "_stat               getpass             pstats              urllib3\n",
      "_statistics         gettext             psutil              uu\n",
      "_string             git                 pty                 uuid\n",
      "_strptime           gitdb               ptyprocess          venv\n",
      "_struct             glcontext           pvectorc            virtualenv\n",
      "_symtable           glob                py_compile          warnings\n",
      "_testbuffer         graphlib            pybtex              watchdog\n",
      "_testcapi           greenlet            pybtex_docutils     wave\n",
      "_testconsole        gzip                pyclbr              wcwidth\n",
      "_testimportmultiple hashlib             pycparser           weakref\n",
      "_testinternalcapi   heapq               pydata_sphinx_theme webbrowser\n",
      "_testmultiphase     hmac                pydoc               webencodings\n",
      "_thread             html                pydoc_data          websocket\n",
      "_threading_local    http                pydub               werkzeug\n",
      "_tkinter            identify            pyexpat             wheel\n",
      "_tracemalloc        idlelib             pyglet              widgetsnbextension\n",
      "_uuid               idna                pygments            win2kras\n",
      "_warnings           imagesize           pylab               win32api\n",
      "_weakref            imaplib             pyparsing           win32clipboard\n",
      "_weakrefset         imghdr              pyrr                win32com\n",
      "_win32sysloader     imp                 pyrsistent          win32con\n",
      "_winapi             importlib           pythoncom           win32console\n",
      "_winxptheme         importlib_metadata  pytz                win32cred\n",
      "_xxsubinterpreters  inexactsearch       pytz_deprecation_shim win32crypt\n",
      "_yaml               inspect             pywin               win32cryptcon\n",
      "_zoneinfo           io                  pywin32_bootstrap   win32event\n",
      "abc                 ipaddress           pywin32_testutil    win32evtlog\n",
      "adodbapi            ipykernel           pywintypes          win32evtlogutil\n",
      "afxres              ipykernel_launcher  queue               win32file\n",
      "aifc                ipympl              quopri              win32gui\n",
      "alabaster           ipyparallel         random              win32gui_struct\n",
      "altair              ipython_genutils    rasutil             win32help\n",
      "animatplot          ipywidgets          re                  win32inet\n",
      "ansi2html           isapi               regcheck            win32inetcon\n",
      "antigravity         isosurfaces         regutil             win32job\n",
      "anyio               itertools           reprlib             win32lz\n",
      "argon2              itsdangerous        requests            win32net\n",
      "argparse            jedi                retrying            win32netcon\n",
      "array               jinja2              rich                win32pdh\n",
      "arrow               jinja2_time         rlcompleter         win32pdhquery\n",
      "ast                 json                rmagic              win32pdhutil\n",
      "asynchat            json5               rpy2                win32pipe\n",
      "asyncio             jsonschema          runpy               win32print\n",
      "asyncore            jupyter             sched               win32process\n",
      "atexit              jupyter_book        scipy               win32profile\n",
      "attr                jupyter_cache       screeninfo          win32ras\n",
      "audioop             jupyter_client      seaborn             win32rcparser\n",
      "autoreload          jupyter_core        secrets             win32security\n",
      "babel               jupyter_dash        select              win32service\n",
      "backcall            jupyter_server      selectors           win32serviceutil\n",
      "backports           jupyter_server_mathjax send2trash          win32timezone\n",
      "base64              jupyter_sphinx      servicemanager      win32trace\n",
      "bdb                 jupyterlab          setup               win32traceutil\n",
      "binaryornot         jupyterlab_plotly   setuptools          win32transaction\n",
      "binascii            jupyterlab_pygments shelve              win32ts\n",
      "binhex              jupyterlab_server   shlex               win32ui\n",
      "bisect              jupyterlab_spellchecker shutil              win32uiole\n",
      "bleach              jupyterlab_widgets  signal              win32verstamp\n",
      "bokeh               jupytext            silpa_common        win32wnet\n",
      "brotli              keyword             site                winerror\n",
      "bs4                 kiwisolver          six                 winioctlcon\n",
      "builtins            latexcodec          slugify             winnt\n",
      "bz2                 lib2to3             smmap               winperf\n",
      "cProfile            linecache           smtpd               winpty\n",
      "cairo               linkify_it          smtplib             winreg\n",
      "cairocffi           livereload          sndhdr              winsound\n",
      "cairosvg            locale              sniffio             winxpgui\n",
      "calendar            logging             snowballstemmer     winxptheme\n",
      "calysto             lzma                socket              wsgiref\n",
      "certifi             mailbox             socketserver        xdrlib\n",
      "cffi                mailcap             soundex             xml\n",
      "cfg_load            manim               soupsieve           xmlrpc\n",
      "cfgv                manimpango          spellchecker        xxsubtype\n",
      "cgi                 mapbox_earcut       sphinx              yaml\n",
      "cgitb               markdown_it         sphinx_autobuild    zipapp\n",
      "chardet             markupsafe          sphinx_book_theme   zipfile\n",
      "charset_normalizer  marshal             sphinx_click        zipimport\n",
      "chunk               math                sphinx_comments     zipp\n",
      "click               matplotlib          sphinx_copybutton   zlib\n",
      "click_default_group matplotlib_inline   sphinx_external_toc zmq\n",
      "cloup               mdit_py_plugins     sphinx_inline_tabs  zoneinfo\n",
      "\n",
      "Enter any module name to get more help.  Or, type \"modules spam\" to search\n",
      "for modules whose name or summary contain the string \"spam\".\n",
      "\n"
     ]
    }
   ],
   "source": [
    "help(\"modules\")"
   ]
  },
  {
   "cell_type": "markdown",
   "metadata": {},
   "source": [
    "Parece que es una lista bastante larga...\n",
    "\n",
    "Veamos alguna documentación de alguno de los módulos y sus atributos.\n",
    "\n",
    "Por ejemplo random."
   ]
  },
  {
   "cell_type": "code",
   "execution_count": 4,
   "metadata": {},
   "outputs": [],
   "source": [
    "#help(\"random\") # Muestra toda la documentación\n",
    "\n",
    "import random\n",
    "\n",
    "#?random # Muestra una pequeña documentación"
   ]
  },
  {
   "cell_type": "markdown",
   "metadata": {},
   "source": [
    "Para acceder a los atributos del módulo, basta colocar ```dir(modulo)```"
   ]
  },
  {
   "cell_type": "code",
   "execution_count": 5,
   "metadata": {},
   "outputs": [
    {
     "data": {
      "text/plain": [
       "['BPF',\n",
       " 'LOG4',\n",
       " 'NV_MAGICCONST',\n",
       " 'RECIP_BPF',\n",
       " 'Random',\n",
       " 'SG_MAGICCONST',\n",
       " 'SystemRandom',\n",
       " 'TWOPI',\n",
       " '_Sequence',\n",
       " '_Set',\n",
       " '__all__',\n",
       " '__builtins__',\n",
       " '__cached__',\n",
       " '__doc__',\n",
       " '__file__',\n",
       " '__loader__',\n",
       " '__name__',\n",
       " '__package__',\n",
       " '__spec__',\n",
       " '_accumulate',\n",
       " '_acos',\n",
       " '_bisect',\n",
       " '_ceil',\n",
       " '_cos',\n",
       " '_e',\n",
       " '_exp',\n",
       " '_floor',\n",
       " '_inst',\n",
       " '_log',\n",
       " '_os',\n",
       " '_pi',\n",
       " '_random',\n",
       " '_repeat',\n",
       " '_sha512',\n",
       " '_sin',\n",
       " '_sqrt',\n",
       " '_test',\n",
       " '_test_generator',\n",
       " '_urandom',\n",
       " '_warn',\n",
       " 'betavariate',\n",
       " 'choice',\n",
       " 'choices',\n",
       " 'expovariate',\n",
       " 'gammavariate',\n",
       " 'gauss',\n",
       " 'getrandbits',\n",
       " 'getstate',\n",
       " 'lognormvariate',\n",
       " 'normalvariate',\n",
       " 'paretovariate',\n",
       " 'randbytes',\n",
       " 'randint',\n",
       " 'random',\n",
       " 'randrange',\n",
       " 'sample',\n",
       " 'seed',\n",
       " 'setstate',\n",
       " 'shuffle',\n",
       " 'triangular',\n",
       " 'uniform',\n",
       " 'vonmisesvariate',\n",
       " 'weibullvariate']"
      ]
     },
     "execution_count": 5,
     "metadata": {},
     "output_type": "execute_result"
    }
   ],
   "source": [
    "dir(random)"
   ]
  },
  {
   "cell_type": "markdown",
   "metadata": {},
   "source": [
    "Vaya que la lista sigue siendo larga...\n",
    "\n",
    "Sigamos metiendo dentro de cada cosa (algún día llegaremos al fin...no?)"
   ]
  },
  {
   "cell_type": "code",
   "execution_count": 6,
   "metadata": {},
   "outputs": [],
   "source": [
    "?random.random"
   ]
  },
  {
   "cell_type": "markdown",
   "metadata": {},
   "source": [
    "**¡Bingo!** Al fin algo que podemos usar:"
   ]
  },
  {
   "cell_type": "code",
   "execution_count": 7,
   "metadata": {},
   "outputs": [
    {
     "name": "stdout",
     "output_type": "stream",
     "text": [
      "Número aleatorio en [0,1]:  0.7705196225225056\n"
     ]
    }
   ],
   "source": [
    "x = random.random()\n",
    "print(\"Número aleatorio en [0,1]: \",x)"
   ]
  },
  {
   "cell_type": "code",
   "execution_count": 8,
   "metadata": {},
   "outputs": [],
   "source": [
    "?random.randint"
   ]
  },
  {
   "cell_type": "code",
   "execution_count": 9,
   "metadata": {},
   "outputs": [
    {
     "name": "stdout",
     "output_type": "stream",
     "text": [
      "Número entero aleatorio entre 3 y 6:  3\n"
     ]
    }
   ],
   "source": [
    "y=random.randint(3,6)\n",
    "print(\"Número entero aleatorio entre 3 y 6: \",y)"
   ]
  },
  {
   "cell_type": "markdown",
   "metadata": {},
   "source": [
    "# <span style=\"color:#4361EE\">Alias para módulos</span>\n",
    "\n",
    "Otra propiedad genial de Python es su capacidad para reducir la cantidad de código escrito usando unos secretos milenarios: aliases.\n",
    "\n",
    "Por ejemplo, si me llamo Daniel, mi **alias** puede ser Dani.\n",
    "\n",
    "Entonces, cada vez que me digan Dani, yo miraré en respuesta.\n",
    "\n",
    "Traducir a Python luce así:\n",
    "\n",
    "```import modulo as alias```\n",
    "\n",
    "### <span style=\"color:#4CC9F0\">Ejemplo</span>"
   ]
  },
  {
   "cell_type": "code",
   "execution_count": 10,
   "metadata": {},
   "outputs": [
    {
     "data": {
      "text/plain": [
       "['__doc__',\n",
       " '__loader__',\n",
       " '__name__',\n",
       " '__package__',\n",
       " '__spec__',\n",
       " 'acos',\n",
       " 'acosh',\n",
       " 'asin',\n",
       " 'asinh',\n",
       " 'atan',\n",
       " 'atan2',\n",
       " 'atanh',\n",
       " 'ceil',\n",
       " 'comb',\n",
       " 'copysign',\n",
       " 'cos',\n",
       " 'cosh',\n",
       " 'degrees',\n",
       " 'dist',\n",
       " 'e',\n",
       " 'erf',\n",
       " 'erfc',\n",
       " 'exp',\n",
       " 'expm1',\n",
       " 'fabs',\n",
       " 'factorial',\n",
       " 'floor',\n",
       " 'fmod',\n",
       " 'frexp',\n",
       " 'fsum',\n",
       " 'gamma',\n",
       " 'gcd',\n",
       " 'hypot',\n",
       " 'inf',\n",
       " 'isclose',\n",
       " 'isfinite',\n",
       " 'isinf',\n",
       " 'isnan',\n",
       " 'isqrt',\n",
       " 'lcm',\n",
       " 'ldexp',\n",
       " 'lgamma',\n",
       " 'log',\n",
       " 'log10',\n",
       " 'log1p',\n",
       " 'log2',\n",
       " 'modf',\n",
       " 'nan',\n",
       " 'nextafter',\n",
       " 'perm',\n",
       " 'pi',\n",
       " 'pow',\n",
       " 'prod',\n",
       " 'radians',\n",
       " 'remainder',\n",
       " 'sin',\n",
       " 'sinh',\n",
       " 'sqrt',\n",
       " 'tan',\n",
       " 'tanh',\n",
       " 'tau',\n",
       " 'trunc',\n",
       " 'ulp']"
      ]
     },
     "execution_count": 10,
     "metadata": {},
     "output_type": "execute_result"
    }
   ],
   "source": [
    "import math as m\n",
    "\n",
    "# Una vez nombrado el alias, siempre se debe referir a ese alias y no al nombre principal\n",
    "\n",
    "#dir(math) genera error\n",
    "dir(m)"
   ]
  },
  {
   "cell_type": "markdown",
   "metadata": {},
   "source": [
    "## <span style=\"color:#4361EE\">Aplicación</span>\n",
    "\n",
    "\n",
    "Una pequeña aplicación de Matemáticas:\n",
    "\n",
    "**Área de una circunferencia de radio r:**\n",
    "\n",
    "$A = \\pi r²$"
   ]
  },
  {
   "cell_type": "code",
   "execution_count": 11,
   "metadata": {},
   "outputs": [
    {
     "name": "stdout",
     "output_type": "stream",
     "text": [
      "El Área del círculo es:  314.1592653589793 cm²\n"
     ]
    }
   ],
   "source": [
    "# Aplicación: Área de un círculo de radio 10 cm \n",
    "\n",
    "r = 10;          # Declarar el radio\n",
    "z = m.pi*(r**2)  # Escribir la fórmula matemática\n",
    "print(\"El Área del círculo es: \",z,\"cm²\")"
   ]
  },
  {
   "cell_type": "markdown",
   "metadata": {},
   "source": [
    "Como pueden observar, los módulos son el **alma de Python**.\n",
    "\n",
    "## <span style=\"color:#4361EE\">Tareas</span>\n",
    "- Conocer los 10 módulos de Python más usados.\n",
    "- Hacer un ejercicio práctico con cada módulo investigado.\n",
    "- Investigar si es posible crear un módulo de Python. En caso afirmativo, crear uno simple.\n",
    "- Explicar la lógica subyacente de la siguiente línea:"
   ]
  },
  {
   "cell_type": "code",
   "execution_count": 12,
   "metadata": {},
   "outputs": [
    {
     "name": "stdout",
     "output_type": "stream",
     "text": [
      "314.1592653589793\n"
     ]
    }
   ],
   "source": [
    "# You Must Reset Kernel 0,0\n",
    "\n",
    "from math import pi\n",
    "\n",
    "A = pi*r**2\n",
    "\n",
    "print(A)"
   ]
  },
  {
   "cell_type": "code",
   "execution_count": 13,
   "metadata": {},
   "outputs": [
    {
     "ename": "NameError",
     "evalue": "name 'math' is not defined",
     "output_type": "error",
     "traceback": [
      "\u001b[1;31m---------------------------------------------------------------------------\u001b[0m",
      "\u001b[1;31mNameError\u001b[0m                                 Traceback (most recent call last)",
      "\u001b[1;32m~\\AppData\\Local\\Temp/ipykernel_13760/929699079.py\u001b[0m in \u001b[0;36m<module>\u001b[1;34m\u001b[0m\n\u001b[1;32m----> 1\u001b[1;33m \u001b[0mmath\u001b[0m\u001b[1;33m.\u001b[0m\u001b[0mpi\u001b[0m\u001b[1;33m\u001b[0m\u001b[1;33m\u001b[0m\u001b[0m\n\u001b[0m",
      "\u001b[1;31mNameError\u001b[0m: name 'math' is not defined"
     ]
    }
   ],
   "source": [
    "math.pi"
   ]
  },
  {
   "cell_type": "markdown",
   "metadata": {},
   "source": [
    "# <span style=\"color:#F72585\">Bonus: Fractales</span>\n",
    "Usando un módulo llamado ```turtle``` podemos crear un arbolito bonito."
   ]
  },
  {
   "cell_type": "markdown",
   "metadata": {},
   "source": [
    ":::{admonition} Importante\n",
    ":class: tip\n",
    "Por favor, para poder visualizar la salida del siguiente código abra el cuaderno en Binder\n",
    ":::"
   ]
  },
  {
   "cell_type": "code",
   "execution_count": 1,
   "metadata": {},
   "outputs": [
    {
     "ename": "Terminator",
     "evalue": "",
     "output_type": "error",
     "traceback": [
      "\u001b[1;31m---------------------------------------------------------------------------\u001b[0m",
      "\u001b[1;31mTerminator\u001b[0m                                Traceback (most recent call last)",
      "\u001b[1;32m<ipython-input-1-8404bb8347a3>\u001b[0m in \u001b[0;36m<module>\u001b[1;34m\u001b[0m\n\u001b[0;32m     19\u001b[0m \u001b[0mturtle\u001b[0m\u001b[1;33m.\u001b[0m\u001b[0mleft\u001b[0m\u001b[1;33m(\u001b[0m\u001b[1;36m90\u001b[0m\u001b[1;33m)\u001b[0m\u001b[1;33m\u001b[0m\u001b[1;33m\u001b[0m\u001b[0m\n\u001b[0;32m     20\u001b[0m \u001b[0mturtle\u001b[0m\u001b[1;33m.\u001b[0m\u001b[0mbackward\u001b[0m\u001b[1;33m(\u001b[0m\u001b[1;36m30\u001b[0m\u001b[1;33m)\u001b[0m\u001b[1;33m\u001b[0m\u001b[1;33m\u001b[0m\u001b[0m\n\u001b[1;32m---> 21\u001b[1;33m \u001b[0mtree\u001b[0m\u001b[1;33m(\u001b[0m\u001b[1;36m200\u001b[0m\u001b[1;33m,\u001b[0m\u001b[1;36m4\u001b[0m\u001b[1;33m)\u001b[0m\u001b[1;33m\u001b[0m\u001b[1;33m\u001b[0m\u001b[0m\n\u001b[0m",
      "\u001b[1;32m<ipython-input-1-8404bb8347a3>\u001b[0m in \u001b[0;36mtree\u001b[1;34m(length, n)\u001b[0m\n\u001b[0;32m      6\u001b[0m     \u001b[0mturtle\u001b[0m\u001b[1;33m.\u001b[0m\u001b[0mforward\u001b[0m\u001b[1;33m(\u001b[0m\u001b[0mlength\u001b[0m\u001b[1;33m)\u001b[0m\u001b[1;33m\u001b[0m\u001b[1;33m\u001b[0m\u001b[0m\n\u001b[0;32m      7\u001b[0m     \u001b[0mturtle\u001b[0m\u001b[1;33m.\u001b[0m\u001b[0mleft\u001b[0m\u001b[1;33m(\u001b[0m\u001b[1;36m45\u001b[0m\u001b[1;33m)\u001b[0m\u001b[1;33m\u001b[0m\u001b[1;33m\u001b[0m\u001b[0m\n\u001b[1;32m----> 8\u001b[1;33m     \u001b[0mtree\u001b[0m\u001b[1;33m(\u001b[0m\u001b[0mlength\u001b[0m \u001b[1;33m*\u001b[0m \u001b[1;36m0.5\u001b[0m\u001b[1;33m,\u001b[0m\u001b[0mlength\u001b[0m\u001b[1;33m/\u001b[0m\u001b[0mn\u001b[0m\u001b[1;33m)\u001b[0m\u001b[1;33m\u001b[0m\u001b[1;33m\u001b[0m\u001b[0m\n\u001b[0m\u001b[0;32m      9\u001b[0m     \u001b[0mturtle\u001b[0m\u001b[1;33m.\u001b[0m\u001b[0mleft\u001b[0m\u001b[1;33m(\u001b[0m\u001b[1;36m20\u001b[0m\u001b[1;33m)\u001b[0m\u001b[1;33m\u001b[0m\u001b[1;33m\u001b[0m\u001b[0m\n\u001b[0;32m     10\u001b[0m     \u001b[0mtree\u001b[0m\u001b[1;33m(\u001b[0m\u001b[0mlength\u001b[0m \u001b[1;33m*\u001b[0m \u001b[1;36m0.5\u001b[0m\u001b[1;33m,\u001b[0m\u001b[0mlength\u001b[0m\u001b[1;33m/\u001b[0m\u001b[0mn\u001b[0m\u001b[1;33m)\u001b[0m\u001b[1;33m\u001b[0m\u001b[1;33m\u001b[0m\u001b[0m\n",
      "\u001b[1;32m<ipython-input-1-8404bb8347a3>\u001b[0m in \u001b[0;36mtree\u001b[1;34m(length, n)\u001b[0m\n\u001b[0;32m      6\u001b[0m     \u001b[0mturtle\u001b[0m\u001b[1;33m.\u001b[0m\u001b[0mforward\u001b[0m\u001b[1;33m(\u001b[0m\u001b[0mlength\u001b[0m\u001b[1;33m)\u001b[0m\u001b[1;33m\u001b[0m\u001b[1;33m\u001b[0m\u001b[0m\n\u001b[0;32m      7\u001b[0m     \u001b[0mturtle\u001b[0m\u001b[1;33m.\u001b[0m\u001b[0mleft\u001b[0m\u001b[1;33m(\u001b[0m\u001b[1;36m45\u001b[0m\u001b[1;33m)\u001b[0m\u001b[1;33m\u001b[0m\u001b[1;33m\u001b[0m\u001b[0m\n\u001b[1;32m----> 8\u001b[1;33m     \u001b[0mtree\u001b[0m\u001b[1;33m(\u001b[0m\u001b[0mlength\u001b[0m \u001b[1;33m*\u001b[0m \u001b[1;36m0.5\u001b[0m\u001b[1;33m,\u001b[0m\u001b[0mlength\u001b[0m\u001b[1;33m/\u001b[0m\u001b[0mn\u001b[0m\u001b[1;33m)\u001b[0m\u001b[1;33m\u001b[0m\u001b[1;33m\u001b[0m\u001b[0m\n\u001b[0m\u001b[0;32m      9\u001b[0m     \u001b[0mturtle\u001b[0m\u001b[1;33m.\u001b[0m\u001b[0mleft\u001b[0m\u001b[1;33m(\u001b[0m\u001b[1;36m20\u001b[0m\u001b[1;33m)\u001b[0m\u001b[1;33m\u001b[0m\u001b[1;33m\u001b[0m\u001b[0m\n\u001b[0;32m     10\u001b[0m     \u001b[0mtree\u001b[0m\u001b[1;33m(\u001b[0m\u001b[0mlength\u001b[0m \u001b[1;33m*\u001b[0m \u001b[1;36m0.5\u001b[0m\u001b[1;33m,\u001b[0m\u001b[0mlength\u001b[0m\u001b[1;33m/\u001b[0m\u001b[0mn\u001b[0m\u001b[1;33m)\u001b[0m\u001b[1;33m\u001b[0m\u001b[1;33m\u001b[0m\u001b[0m\n",
      "\u001b[1;32m<ipython-input-1-8404bb8347a3>\u001b[0m in \u001b[0;36mtree\u001b[1;34m(length, n)\u001b[0m\n\u001b[0;32m      8\u001b[0m     \u001b[0mtree\u001b[0m\u001b[1;33m(\u001b[0m\u001b[0mlength\u001b[0m \u001b[1;33m*\u001b[0m \u001b[1;36m0.5\u001b[0m\u001b[1;33m,\u001b[0m\u001b[0mlength\u001b[0m\u001b[1;33m/\u001b[0m\u001b[0mn\u001b[0m\u001b[1;33m)\u001b[0m\u001b[1;33m\u001b[0m\u001b[1;33m\u001b[0m\u001b[0m\n\u001b[0;32m      9\u001b[0m     \u001b[0mturtle\u001b[0m\u001b[1;33m.\u001b[0m\u001b[0mleft\u001b[0m\u001b[1;33m(\u001b[0m\u001b[1;36m20\u001b[0m\u001b[1;33m)\u001b[0m\u001b[1;33m\u001b[0m\u001b[1;33m\u001b[0m\u001b[0m\n\u001b[1;32m---> 10\u001b[1;33m     \u001b[0mtree\u001b[0m\u001b[1;33m(\u001b[0m\u001b[0mlength\u001b[0m \u001b[1;33m*\u001b[0m \u001b[1;36m0.5\u001b[0m\u001b[1;33m,\u001b[0m\u001b[0mlength\u001b[0m\u001b[1;33m/\u001b[0m\u001b[0mn\u001b[0m\u001b[1;33m)\u001b[0m\u001b[1;33m\u001b[0m\u001b[1;33m\u001b[0m\u001b[0m\n\u001b[0m\u001b[0;32m     11\u001b[0m     \u001b[0mturtle\u001b[0m\u001b[1;33m.\u001b[0m\u001b[0mright\u001b[0m\u001b[1;33m(\u001b[0m\u001b[1;36m75\u001b[0m\u001b[1;33m)\u001b[0m\u001b[1;33m\u001b[0m\u001b[1;33m\u001b[0m\u001b[0m\n\u001b[0;32m     12\u001b[0m     \u001b[0mtree\u001b[0m\u001b[1;33m(\u001b[0m\u001b[0mlength\u001b[0m \u001b[1;33m*\u001b[0m \u001b[1;36m0.5\u001b[0m\u001b[1;33m,\u001b[0m\u001b[0mlength\u001b[0m\u001b[1;33m/\u001b[0m\u001b[0mn\u001b[0m\u001b[1;33m)\u001b[0m\u001b[1;33m\u001b[0m\u001b[1;33m\u001b[0m\u001b[0m\n",
      "\u001b[1;32m<ipython-input-1-8404bb8347a3>\u001b[0m in \u001b[0;36mtree\u001b[1;34m(length, n)\u001b[0m\n\u001b[0;32m      6\u001b[0m     \u001b[0mturtle\u001b[0m\u001b[1;33m.\u001b[0m\u001b[0mforward\u001b[0m\u001b[1;33m(\u001b[0m\u001b[0mlength\u001b[0m\u001b[1;33m)\u001b[0m\u001b[1;33m\u001b[0m\u001b[1;33m\u001b[0m\u001b[0m\n\u001b[0;32m      7\u001b[0m     \u001b[0mturtle\u001b[0m\u001b[1;33m.\u001b[0m\u001b[0mleft\u001b[0m\u001b[1;33m(\u001b[0m\u001b[1;36m45\u001b[0m\u001b[1;33m)\u001b[0m\u001b[1;33m\u001b[0m\u001b[1;33m\u001b[0m\u001b[0m\n\u001b[1;32m----> 8\u001b[1;33m     \u001b[0mtree\u001b[0m\u001b[1;33m(\u001b[0m\u001b[0mlength\u001b[0m \u001b[1;33m*\u001b[0m \u001b[1;36m0.5\u001b[0m\u001b[1;33m,\u001b[0m\u001b[0mlength\u001b[0m\u001b[1;33m/\u001b[0m\u001b[0mn\u001b[0m\u001b[1;33m)\u001b[0m\u001b[1;33m\u001b[0m\u001b[1;33m\u001b[0m\u001b[0m\n\u001b[0m\u001b[0;32m      9\u001b[0m     \u001b[0mturtle\u001b[0m\u001b[1;33m.\u001b[0m\u001b[0mleft\u001b[0m\u001b[1;33m(\u001b[0m\u001b[1;36m20\u001b[0m\u001b[1;33m)\u001b[0m\u001b[1;33m\u001b[0m\u001b[1;33m\u001b[0m\u001b[0m\n\u001b[0;32m     10\u001b[0m     \u001b[0mtree\u001b[0m\u001b[1;33m(\u001b[0m\u001b[0mlength\u001b[0m \u001b[1;33m*\u001b[0m \u001b[1;36m0.5\u001b[0m\u001b[1;33m,\u001b[0m\u001b[0mlength\u001b[0m\u001b[1;33m/\u001b[0m\u001b[0mn\u001b[0m\u001b[1;33m)\u001b[0m\u001b[1;33m\u001b[0m\u001b[1;33m\u001b[0m\u001b[0m\n",
      "\u001b[1;32m<ipython-input-1-8404bb8347a3>\u001b[0m in \u001b[0;36mtree\u001b[1;34m(length, n)\u001b[0m\n\u001b[0;32m      9\u001b[0m     \u001b[0mturtle\u001b[0m\u001b[1;33m.\u001b[0m\u001b[0mleft\u001b[0m\u001b[1;33m(\u001b[0m\u001b[1;36m20\u001b[0m\u001b[1;33m)\u001b[0m\u001b[1;33m\u001b[0m\u001b[1;33m\u001b[0m\u001b[0m\n\u001b[0;32m     10\u001b[0m     \u001b[0mtree\u001b[0m\u001b[1;33m(\u001b[0m\u001b[0mlength\u001b[0m \u001b[1;33m*\u001b[0m \u001b[1;36m0.5\u001b[0m\u001b[1;33m,\u001b[0m\u001b[0mlength\u001b[0m\u001b[1;33m/\u001b[0m\u001b[0mn\u001b[0m\u001b[1;33m)\u001b[0m\u001b[1;33m\u001b[0m\u001b[1;33m\u001b[0m\u001b[0m\n\u001b[1;32m---> 11\u001b[1;33m     \u001b[0mturtle\u001b[0m\u001b[1;33m.\u001b[0m\u001b[0mright\u001b[0m\u001b[1;33m(\u001b[0m\u001b[1;36m75\u001b[0m\u001b[1;33m)\u001b[0m\u001b[1;33m\u001b[0m\u001b[1;33m\u001b[0m\u001b[0m\n\u001b[0m\u001b[0;32m     12\u001b[0m     \u001b[0mtree\u001b[0m\u001b[1;33m(\u001b[0m\u001b[0mlength\u001b[0m \u001b[1;33m*\u001b[0m \u001b[1;36m0.5\u001b[0m\u001b[1;33m,\u001b[0m\u001b[0mlength\u001b[0m\u001b[1;33m/\u001b[0m\u001b[0mn\u001b[0m\u001b[1;33m)\u001b[0m\u001b[1;33m\u001b[0m\u001b[1;33m\u001b[0m\u001b[0m\n\u001b[0;32m     13\u001b[0m     \u001b[0mturtle\u001b[0m\u001b[1;33m.\u001b[0m\u001b[0mright\u001b[0m\u001b[1;33m(\u001b[0m\u001b[1;36m20\u001b[0m\u001b[1;33m)\u001b[0m\u001b[1;33m\u001b[0m\u001b[1;33m\u001b[0m\u001b[0m\n",
      "\u001b[1;32m~\\anaconda3\\lib\\turtle.py\u001b[0m in \u001b[0;36mright\u001b[1;34m(angle)\u001b[0m\n",
      "\u001b[1;31mTerminator\u001b[0m: "
     ]
    }
   ],
   "source": [
    "import turtle\n",
    "\n",
    "def tree(length,n):\n",
    "    if length < (length/n):\n",
    "        return\n",
    "    turtle.forward(length)\n",
    "    turtle.left(45)\n",
    "    tree(length * 0.5,length/n)\n",
    "    turtle.left(20)\n",
    "    tree(length * 0.5,length/n)\n",
    "    turtle.right(75)\n",
    "    tree(length * 0.5,length/n)\n",
    "    turtle.right(20)\n",
    "    tree(length * 0.5,length/n)\n",
    "    turtle.left(30)\n",
    "    turtle.backward(length)\n",
    "    return\n",
    "\n",
    "turtle.left(90)\n",
    "turtle.backward(30)\n",
    "tree(200,4)"
   ]
  },
  {
   "cell_type": "markdown",
   "metadata": {},
   "source": [
    "Y también formas que tienen forma de pedazos de copitos de nieve (Koch Curve):"
   ]
  },
  {
   "cell_type": "code",
   "execution_count": null,
   "metadata": {},
   "outputs": [],
   "source": [
    "from turtle import *\n",
    "\n",
    "def Recursive_Koch(length, depth):\n",
    "    if depth == 0:\n",
    "        forward(length)\n",
    "    else:\n",
    "        Recursive_Koch(length, depth-1)\n",
    "        right(60)\n",
    "        Recursive_Koch(length, depth-1)\n",
    "        left(120)\n",
    "        #Recursive_Koch(length, depth-1)\n",
    "        Recursive_Koch(length, depth-1)\n",
    "        right(60)\n",
    "        Recursive_Koch(length, depth-1)\n",
    "        \n",
    "# ----------\n",
    "Recursive_Koch(3, 6)"
   ]
  },
  {
   "cell_type": "markdown",
   "metadata": {},
   "source": [
    "## <span style=\"color:#4361EE\">Autores</span>\n"
   ]
  },
  {
   "cell_type": "markdown",
   "metadata": {},
   "source": [
    "## <span style=\"color:#4361EE\">Bibliografía </span>\n"
   ]
  },
  {
   "cell_type": "markdown",
   "metadata": {},
   "source": [
    "## <span style=\"color:#4361EE\">Comentarios</span>\n"
   ]
  }
 ],
 "metadata": {
  "kernelspec": {
   "display_name": "Python 3",
   "language": "python",
   "name": "python3"
  },
  "language_info": {
   "codemirror_mode": {
    "name": "ipython",
    "version": 3
   },
   "file_extension": ".py",
   "mimetype": "text/x-python",
   "name": "python",
   "nbconvert_exporter": "python",
   "pygments_lexer": "ipython3",
   "version": "3.9.3"
  }
 },
 "nbformat": 4,
 "nbformat_minor": 4
}